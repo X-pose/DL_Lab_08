{
  "cells": [
    {
      "cell_type": "markdown",
      "metadata": {
        "id": "view-in-github",
        "colab_type": "text"
      },
      "source": [
        "<a href=\"https://colab.research.google.com/github/X-pose/DL_Lab_08/blob/main/Markov_Decision_Process.ipynb\" target=\"_parent\"><img src=\"https://colab.research.google.com/assets/colab-badge.svg\" alt=\"Open In Colab\"/></a>"
      ]
    },
    {
      "cell_type": "markdown",
      "metadata": {
        "id": "-LMwDZHlsAvn"
      },
      "source": [
        "# Markov Decision Process (MDP)"
      ]
    },
    {
      "cell_type": "markdown",
      "metadata": {
        "id": "rK2etKh-sAvo"
      },
      "source": [
        "### Ransalu Senanayake"
      ]
    },
    {
      "cell_type": "code",
      "execution_count": 1,
      "metadata": {
        "id": "Tlr-PNcssAvp"
      },
      "outputs": [],
      "source": [
        "import copy\n",
        "import timeit\n",
        "import numpy as np\n",
        "import matplotlib.pyplot as pl\n",
        "%matplotlib inline\n",
        "from ipywidgets import interactive\n",
        "import ipywidgets as widgets"
      ]
    },
    {
      "cell_type": "markdown",
      "metadata": {
        "id": "_f6VSXlQsAvs"
      },
      "source": [
        "Create the following grid world.\n",
        "\n",
        "**States:** A 10x10 grid\n",
        "\n",
        "**Actions:** Up, Down, Left, Right\n",
        "\n",
        "**Tranistion probabilities:**\n",
        "* 0.7 in the direction of action\n",
        "* 0.1 in the three other directions\n",
        "* The robot bounces back to the same state near edges\n",
        "\n",
        "**Rewards:**\n",
        "* (7,8) has a reward +10\n",
        "* (2,7) has a reward +3\n",
        "* (4,3) has a reward -5\n",
        "* (7,3) has a reward -10\n",
        "* No reward in other states\n",
        "\n",
        "This example is based on Decision Making Under Uncertainty by M.J. Kochenderfer."
      ]
    },
    {
      "cell_type": "code",
      "execution_count": 2,
      "metadata": {
        "id": "sbT7VOEQsAvt"
      },
      "outputs": [],
      "source": [
        "#Let's define MDP paras\n",
        "def createGrid10World():\n",
        "    def xy2s(y, x):\n",
        "        x = max(x, 0)\n",
        "        y = max(y, 0)\n",
        "        x = min(x, 9)\n",
        "        y = min(y, 9)\n",
        "        out = np.ravel_multi_index(np.array([x,y]), (10,10))\n",
        "        return out\n",
        "\n",
        "    def s2xy(s):\n",
        "        x, y = np.unravel_index(s, (10,10))\n",
        "        return y, x\n",
        "\n",
        "    def gridPlot(ax, im, title='', cmap='Blues'):\n",
        "        pl.imshow(im, interpolation='none', cmap=cmap, origin='lower')\n",
        "        pl.colorbar()\n",
        "        ax.set_xticks(np.arange(0, 10, 1));\n",
        "        ax.set_yticks(np.arange(0, 10, 1));\n",
        "        ax.set_xticklabels(np.arange(0, 10, 1));\n",
        "        ax.set_yticklabels(np.arange(0, 10, 1));\n",
        "        ax.set_xticks(np.arange(-.5, 10, 1), minor=True);\n",
        "        ax.set_yticks(np.arange(-.5, 10, 1), minor=True);\n",
        "        ax.grid(which='minor', color='w', linestyle='-', linewidth=1)\n",
        "        pl.title(title);\n",
        "        return\n",
        "\n",
        "    A = ['left', 'right', 'up', 'down']\n",
        "    S = np.arange(100)\n",
        "    T = np.zeros((len(S), len(A), len(S)))\n",
        "    R = np.zeros((len(S), len(A)))\n",
        "    for s in S:\n",
        "        x, y = s2xy(s)\n",
        "        if x == 2 and y == 7:\n",
        "            R[s, :] = 3\n",
        "        elif x == 7 and y == 8:\n",
        "            R[s, :] = 10\n",
        "        else:\n",
        "            if x == 7 and y == 3:\n",
        "                R[s, :] = -10\n",
        "            elif x == 4 and y == 3:\n",
        "                R[s, :] = -5\n",
        "            elif x == 0:\n",
        "                if y == 0 or y == 9:\n",
        "                    R[s, :] = -0.2\n",
        "                else:\n",
        "                    R[s, :] = -0.1\n",
        "                R[s, 0] = -0.7\n",
        "            elif x == 9:\n",
        "                if y == 0 or y == 9:\n",
        "                    R[s, :] = -0.2\n",
        "                else:\n",
        "                    R[s, :] = -0.1\n",
        "                R[s, 1] = -0.7\n",
        "            elif y == 0:\n",
        "                if x == 0 or x == 9:\n",
        "                    R[s, :] = -0.2\n",
        "                else:\n",
        "                    R[s, :] = -0.1\n",
        "                R[s, 3] = -0.7\n",
        "            elif y == 9:\n",
        "                if x == 0 or x == 9:\n",
        "                    R[s, :] = -0.2\n",
        "                else:\n",
        "                    R[s, :] = -0.1\n",
        "                R[s, 2] = -0.7\n",
        "\n",
        "            for a in A:\n",
        "                if a == 'left':\n",
        "                    T[s, 0, xy2s(x - 1, y)] += 0.7\n",
        "                    T[s, 0, xy2s(x + 1, y)] += 0.1\n",
        "                    T[s, 0, xy2s(x, y - 1)] += 0.1\n",
        "                    T[s, 0, xy2s(x, y + 1)] += 0.1\n",
        "                elif a == 'right':\n",
        "                    T[s, 1, xy2s(x + 1, y)] += 0.7\n",
        "                    T[s, 1, xy2s(x - 1, y)] += 0.1\n",
        "                    T[s, 1, xy2s(x, y - 1)] += 0.1\n",
        "                    T[s, 1, xy2s(x, y + 1)] += 0.1\n",
        "                elif a == 'up':\n",
        "                    T[s, 2, xy2s(x, y + 1)] += 0.7\n",
        "                    T[s, 2, xy2s(x, y - 1)] += 0.1\n",
        "                    T[s, 2, xy2s(x - 1, y)] += 0.1\n",
        "                    T[s, 2, xy2s(x + 1, y)] += 0.1\n",
        "                elif a == 'down':\n",
        "                    T[s, 3, xy2s(x, y - 1)] += 0.7\n",
        "                    T[s, 3, xy2s(x, y + 1)] += 0.1\n",
        "                    T[s, 3, xy2s(x - 1, y)] += 0.1\n",
        "                    T[s, 3, xy2s(x + 1, y)] += 0.1\n",
        "\n",
        "    for a, c_x, c_y in [(0,0,0), (0,0,9),(1,9,0),(1,9,9),(2,0,9),(2,9,9),(3,0,0),(3,9,0)]:\n",
        "        R[xy2s(c_x,c_y),a] = -0.8\n",
        "\n",
        "    discount = 0.9\n",
        "\n",
        "    nextStates = {}\n",
        "    for si in range(len(S)):\n",
        "        for ai in range(len(A)):\n",
        "            nextStates[(si,ai)] = np.where((T[si, ai, :] != 0) == True)[0]\n",
        "\n",
        "    return {'S':S, 'A':A, 'T':T, 'R':R, 'discount':discount, 'nextStates':nextStates, 'gridPlot':gridPlot, 'xy2s':xy2s, 's2xy':s2xy}"
      ]
    },
    {
      "cell_type": "code",
      "execution_count": 3,
      "metadata": {
        "id": "BylriiRqsAvv"
      },
      "outputs": [],
      "source": [
        "class MDP():\n",
        "    def __init__(self):\n",
        "        pass\n",
        "\n",
        "    def inbuilt_init(self, mdp_dict):\n",
        "        self.S = mdp_dict['S']\n",
        "        self.A = mdp_dict['A']\n",
        "        self.T = mdp_dict['T']\n",
        "        self.R = mdp_dict['R']\n",
        "        self.discount = mdp_dict['discount']\n",
        "        self.nextStates = mdp_dict['nextStates']\n",
        "        self.gridPlot = mdp_dict['gridPlot']\n",
        "        self.xy2s = mdp_dict['xy2s']\n",
        "        self.s2xy = mdp_dict['s2xy']"
      ]
    },
    {
      "cell_type": "code",
      "execution_count": 4,
      "metadata": {
        "colab": {
          "base_uri": "https://localhost:8080/",
          "height": 963
        },
        "id": "QGcCuJpasAvy",
        "outputId": "777f45d0-dc45-4e39-affe-efed4e56f91f"
      },
      "outputs": [
        {
          "output_type": "display_data",
          "data": {
            "text/plain": [
              "<Figure size 300x300 with 2 Axes>"
            ],
            "image/png": "[encoded data removed]"
          },
          "metadata": {}
        },
        {
          "output_type": "display_data",
          "data": {
            "text/plain": [
              "<Figure size 1500x300 with 8 Axes>"
            ],
            "image/png": "[encoded data removed]"
          },
          "metadata": {}
        },
        {
          "output_type": "display_data",
          "data": {
            "text/plain": [
              "<Figure size 1500x300 with 8 Axes>"
            ],
            "image/png": "[encoded data removed]"
          },
          "metadata": {}
        },
        {
          "output_type": "display_data",
          "data": {
            "text/plain": [
              "<Figure size 1500x300 with 8 Axes>"
            ],
            "image/png": "[encoded data removed]"
          },
          "metadata": {}
        }
      ],
      "source": [
        "#Define the MDP\n",
        "mdp = MDP()\n",
        "mdp.inbuilt_init(mdp_dict=createGrid10World())\n",
        "\n",
        "#Plot states\n",
        "pl.figure(figsize=(3,3))\n",
        "mdp.gridPlot(ax=pl.gca(), im=mdp.S.reshape((10,10)), title='States', cmap='Greys')\n",
        "\n",
        "#Plot rewards\n",
        "pl.figure(figsize=(15,3))\n",
        "pl.suptitle('Rewards', fontsize=15)\n",
        "for a in range(4):\n",
        "    pl.subplot(1,4,a+1)\n",
        "    mdp.gridPlot(ax=pl.gca(), im=mdp.R[:,a].reshape((10,10)), title='a='+mdp.A[a], cmap='jet')\n",
        "pl.show()\n",
        "\n",
        "#Plot rewards\n",
        "pl.figure(figsize=(15,3))\n",
        "pl.suptitle('Rewards - clipped larger +ve values for visualizing the edges', fontsize=15)\n",
        "for a in range(4):\n",
        "    pl.subplot(1,4,a+1)\n",
        "    mdp.gridPlot(ax=pl.gca(), im=np.clip(mdp.R[:,a].reshape((10,10)), -1, -0.5), title='a='+mdp.A[a], cmap='jet')\n",
        "pl.show()\n",
        "\n",
        "#Plot rewards\n",
        "s0_x, s0_y = 3, 5\n",
        "s0 = mdp.xy2s(s0_x, s0_y)\n",
        "pl.figure(figsize=(15,3))\n",
        "pl.suptitle('Transition probabilities T(s1|s0=({},{}),a)'.format(s0_x, s0_y), fontsize=15)\n",
        "for a in range(4):\n",
        "    pl.subplot(1,4,a+1)\n",
        "    mdp.gridPlot(ax=pl.gca(), im=mdp.T[s0,a,:].reshape((10,10)), title='a='+mdp.A[a], cmap='Blues')\n",
        "pl.show()"
      ]
    },
    {
      "cell_type": "code",
      "execution_count": 5,
      "metadata": {
        "colab": {
          "base_uri": "https://localhost:8080/",
          "height": 611,
          "referenced_widgets": [
            "a0fd6aec51b14170a1bd20f85977454f",
            "7ebcd948238a4fb383c116d0751744ae",
            "73e730d0a4d64c50a6fd778cb4d62018",
            "ecb388420a1f48ca8b864eb7c77f79f5",
            "3e895aaaccdd4f9086ac099dc7a419f1",
            "f828900e03ae4f3681f4281b5d4a42df",
            "8f9d4fb6b1cf479fabac807847430600",
            "7c8054414c7f423fbef139f577898a62",
            "07a961f3b2344d99af3299ddb4dda842",
            "b873e52d203f4177bcda0b2d070ce0f7",
            "28af7ab79fe94d92b976eec44f171e1e",
            "66d18c0eda8d4f16a4650261548dbb44",
            "88660f3cb4274b8d849b89db1e9d941b"
          ]
        },
        "id": "WSh9F6O2sAv1",
        "outputId": "50c69663-402b-4e0f-bb17-876735047210"
      },
      "outputs": [
        {
          "output_type": "display_data",
          "data": {
            "text/plain": [
              "interactive(children=(Text(value='4', description='s0_x'), Text(value='5', description='s0_y'), ToggleButtons(…"
            ],
            "application/vnd.jupyter.widget-view+json": {
              "version_major": 2,
              "version_minor": 0,
              "model_id": "a0fd6aec51b14170a1bd20f85977454f"
            }
          },
          "metadata": {}
        }
      ],
      "source": [
        "#An interactive plot of transition probabilities\n",
        "def f(s0_x, s0_y, action):\n",
        "    a = mdp.A.index(action)\n",
        "    s0 = mdp.xy2s(int(s0_x), int(s0_y))\n",
        "    pl.figure(figsize=(6,6))\n",
        "    title = 'Transition probabilities T(s1|s0=({},{}),a={})'.format(int(s0_x),int(s0_y),action)\n",
        "    mdp.gridPlot(ax=pl.gca(), im=mdp.T[s0,a,:].reshape((10,10)), title=title, cmap='Blues')\n",
        "    pl.show()\n",
        "\n",
        "interactive_plot = interactive(f, s0_x='4', s0_y='5', action=widgets.ToggleButtons(options=['left', 'right', 'up', 'down']))\n",
        "interactive_plot"
      ]
    },
    {
      "cell_type": "markdown",
      "metadata": {
        "id": "CRtcTdgOsAv4"
      },
      "source": [
        "### 1. Policy evaluation\n",
        "\n",
        "Computing the utility, U.\n",
        "\n",
        "$U^\\pi_k(s) = R(s, \\pi(s)) + \\gamma \\sum_{s'} T(s' \\mid s, \\pi(s))U^\\pi_{k-1}(s')$"
      ]
    },
    {
      "cell_type": "code",
      "execution_count": 10,
      "metadata": {
        "colab": {
          "base_uri": "https://localhost:8080/",
          "height": 247
        },
        "id": "cT2yS--rsAv4",
        "outputId": "78c0b646-fe99-432c-b51d-93cd39ddcdcc"
      },
      "outputs": [
        {
          "output_type": "display_data",
          "data": {
            "text/plain": [
              "<Figure size 1500x300 with 8 Axes>"
            ],
            "image/png": "[encoded data removed]"
          },
          "metadata": {}
        }
      ],
      "source": [
        "def iterativePolicyEvaluation(mdp, policy, numIterations=10):\n",
        "    U = np.zeros(len(mdp.S))\n",
        "    U_old = copy.copy(U)\n",
        "    for t in range(numIterations):\n",
        "        #type your code here\n",
        "        for s0 in range(len(mdp.S)):\n",
        "            U[s0] = mdp.R[s0,policy] + mdp.discount*sum([mdp.T[s0,policy,s1]*U_old[s1] for s1 in mdp.S])\n",
        "        U_old = copy.copy(U)\n",
        "    return U\n",
        "\n",
        "numIterations = 5\n",
        "pl.figure(figsize=(15,3))\n",
        "pl.suptitle('Utilities', fontsize=15)\n",
        "for a in range(4):\n",
        "    pl.subplot(1,4,a+1)\n",
        "    U = iterativePolicyEvaluation(mdp=mdp, policy=a, numIterations=numIterations)\n",
        "    mdp.gridPlot(ax=pl.gca(), im=U.reshape(10,10), title='a='+mdp.A[a], cmap='jet')\n",
        "pl.show()\n",
        "#print(np.round(U.reshape(10,10),3))"
      ]
    },
    {
      "cell_type": "code",
      "execution_count": 11,
      "metadata": {
        "colab": {
          "base_uri": "https://localhost:8080/",
          "height": 347,
          "referenced_widgets": [
            "ad7c1b46b55a4aa38fb93b5cf5e58c22",
            "c98b353f314a4c88adcc89cf9dee39f6",
            "45aa1c1acedf431c804fbb01cb712532",
            "9c0484dd732d47dfa6fec7ca32573a55",
            "ceb5cc95699a4427943d6d53aa5fb781",
            "da37346023364b7087a83a7ad5dfb11b",
            "5f1af69e1a744baa91cff44726840a68",
            "bdef23386a9a4942ab782348096d2b18",
            "8b5ad34c394d4fe28169e71de2b7f20b",
            "0b4408df75f64042adaab49938ec2402"
          ]
        },
        "id": "XcMijKgbsAv7",
        "outputId": "141f26e0-9d5b-462e-f857-49aa213f136d"
      },
      "outputs": [
        {
          "output_type": "display_data",
          "data": {
            "text/plain": [
              "interactive(children=(ToggleButtons(description='action', options=('left', 'right', 'up', 'down'), value='left…"
            ],
            "application/vnd.jupyter.widget-view+json": {
              "version_major": 2,
              "version_minor": 0,
              "model_id": "ad7c1b46b55a4aa38fb93b5cf5e58c22"
            }
          },
          "metadata": {}
        }
      ],
      "source": [
        "def f(action, numIter=1):\n",
        "    U = iterativePolicyEvaluation(mdp, policy=mdp.A.index(action), numIterations=numIter)\n",
        "    pl.figure(figsize=(3,3))\n",
        "    mdp.gridPlot(ax=pl.gca(), im=U.reshape(10,10), title='Utility', cmap='jet')\n",
        "    pl.show()\n",
        "\n",
        "interactive_plot = interactive(f, action=widgets.ToggleButtons(options=['left', 'right', 'up', 'down']),\n",
        "                               numIter=widgets.IntSlider(min=0, max=20, step=1, value=0))\n",
        "interactive_plot"
      ]
    },
    {
      "cell_type": "code",
      "execution_count": 12,
      "metadata": {
        "colab": {
          "base_uri": "https://localhost:8080/",
          "height": 282
        },
        "id": "-L8qvyKAsAv9",
        "outputId": "feec0d18-e70b-481f-a38e-e0ef0ca288f5"
      },
      "outputs": [
        {
          "output_type": "display_data",
          "data": {
            "text/plain": [
              "<Figure size 300x300 with 2 Axes>"
            ],
            "image/png": "[encoded data removed]"
          },
          "metadata": {}
        }
      ],
      "source": [
        "#Value iteration\n",
        "def valueIteration(mdp, numIterations=1):\n",
        "    U = np.zeros(len(mdp.S))\n",
        "    U_old = copy.copy(U)\n",
        "    for t in range(numIterations):\n",
        "        for s0 in range(len(mdp.S)):\n",
        "            U[s0] = max([mdp.R[s0,a] + mdp.discount*np.sum(mdp.T[s0,a,:]*U_old[:]) for a in np.arange(len(mdp.A))])\n",
        "        U_old = copy.copy(U)\n",
        "    return U\n",
        "\n",
        "def policyExtration(mdp, U):\n",
        "    policy = np.zeros(len(mdp.S))\n",
        "    #type your code here\n",
        "    for s0 in range(len(mdp.S)):\n",
        "        policy[s0] = np.argmax([mdp.R[s0,a] + mdp.discount*np.sum(mdp.T[s0,a,:]*U[:]) for a in np.arange(len(mdp.A))])\n",
        "    return policy\n",
        "\n",
        "U = valueIteration(mdp, numIterations=2)\n",
        "policy = policyExtration(mdp, U=U)\n",
        "pl.figure(figsize=(3,3))\n",
        "mdp.gridPlot(ax=pl.gca(), im=U.reshape(10,10), title='Utility', cmap='jet')\n",
        "for s in range(100):\n",
        "    x, y = mdp.s2xy(s)\n",
        "    if policy[s] == 0:\n",
        "        m='\\u02C2'\n",
        "    elif policy[s] == 1:\n",
        "        m='\\u02C3'\n",
        "    elif policy[s] == 2:\n",
        "        m='\\u02C4'\n",
        "    elif policy[s] == 3:\n",
        "        m='\\u02C5'\n",
        "    pl.text(x-0.5,y-1,m,color='k',size=20)\n",
        "pl.show()"
      ]
    },
    {
      "cell_type": "code",
      "execution_count": 13,
      "metadata": {
        "colab": {
          "base_uri": "https://localhost:8080/",
          "height": 330,
          "referenced_widgets": [
            "a049dfeeb59640839351bb35b2ed0412",
            "1a5142e26e9548a79c0182b3f57569f2",
            "87f1a0b692264ac09c3a3cc3bd3a005b",
            "e90dace660f347f999066b59e55ee8cd",
            "3fdd0079b5fd41e19eab42aac9f77c04",
            "a2e34285610a417ca138fab9448864bc",
            "7393076a78284395a40ce75834725197"
          ]
        },
        "id": "W7Hvi7YdsAv_",
        "outputId": "1c3ea7ae-5ddf-49fc-cc60-57a5626a23a2"
      },
      "outputs": [
        {
          "output_type": "display_data",
          "data": {
            "text/plain": [
              "interactive(children=(IntSlider(value=0, description='numIter', max=20), Output()), _dom_classes=('widget-inte…"
            ],
            "application/vnd.jupyter.widget-view+json": {
              "version_major": 2,
              "version_minor": 0,
              "model_id": "a049dfeeb59640839351bb35b2ed0412"
            }
          },
          "metadata": {}
        }
      ],
      "source": [
        "def f(numIter=1):\n",
        "    start_time = timeit.default_timer()\n",
        "    U = valueIteration(mdp, numIterations=numIter)\n",
        "    policy = policyExtration(mdp, U=U)\n",
        "    elapsed = timeit.default_timer() - start_time\n",
        "    print('time=', np.round(elapsed*1000,2))\n",
        "    pl.figure(figsize=(3,3))\n",
        "    mdp.gridPlot(ax=pl.gca(), im=U.reshape(10,10), title='Utility', cmap='jet')\n",
        "    for s in range(100):\n",
        "        x, y = mdp.s2xy(s)\n",
        "        if policy[s] == 0:\n",
        "            m='\\u02C2'\n",
        "        elif policy[s] == 1:\n",
        "            m='\\u02C3'\n",
        "        elif policy[s] == 2:\n",
        "            m='\\u02C4'\n",
        "        elif policy[s] == 3:\n",
        "            m='\\u02C5'\n",
        "        pl.text(x-0.5,y-1,m,color='k',size=20)\n",
        "    pl.show()\n",
        "\n",
        "interactive_plot = interactive(f, numIter=widgets.IntSlider(min=0, max=20, step=1, value=0))\n",
        "interactive_plot"
      ]
    },
    {
      "cell_type": "markdown",
      "metadata": {
        "id": "6il1i5CesAwB"
      },
      "source": [
        "### 2. Policy iteration\n",
        "\n",
        "Policy evaluation can be used in policy iteration:\n",
        "1. Given the current policy, compute U\n",
        "2. Using U, compute a new policy"
      ]
    },
    {
      "cell_type": "code",
      "execution_count": 14,
      "metadata": {
        "id": "5VzzQB0jsAwC"
      },
      "outputs": [],
      "source": [
        "def policyIteration(mdp, numIterations=1):\n",
        "    U_pi_k = np.zeros(len(mdp.S)) #initial values\n",
        "    pi_k = np.random.randint(low=0,high=4,size=len(mdp.S),dtype=int) #initial policy\n",
        "    pi_kp1 = copy.copy(pi_k)\n",
        "    for t in range(numIterations):\n",
        "        #Policy evaluation: compute U_pi_k\n",
        "          #type your code here\n",
        "          U_pi_k_temp = copy.copy(U_pi_k)\n",
        "          pi_k = copy.copy(pi_kp1)\n",
        "          for s0 in range(len(mdp.S)):\n",
        "            U_pi_k[s0] = mdp.R[s0,pi_k[s0]] + mdp.discount*np.sum(mdp.T[s0,pi_k[s0],:]*U_pi_k_temp[:])\n",
        "        #Policy improvement\n",
        "          #type your code here\n",
        "          for s0 in range(len(mdp.S)):\n",
        "            pi_kp1[s0] = np.argmax([mdp.R[s0,a] + mdp.discount*np.sum(mdp.T[s0,a,:]*U_pi_k[:]) for a in np.arange(len(mdp.A))])\n",
        "    return U_pi_k, pi_kp1\n",
        "\n",
        "U_pi_k, pi_kp1 = policyIteration(mdp, numIterations=2)"
      ]
    },
    {
      "cell_type": "code",
      "execution_count": 15,
      "metadata": {
        "colab": {
          "base_uri": "https://localhost:8080/",
          "height": 332,
          "referenced_widgets": [
            "d157ebf9bc22472d8b464ec0e916c13e",
            "414c5b571e084cfdae621f73a3005abb",
            "b198ac2aadcc4008ba066b6d8d2e107d",
            "ddca2476c9ce4a30962c845f07928ff1",
            "4ce9ff9932814c26ba1455774408fc91",
            "5ae2a7f904d94d04aa94a5324d4c0fc9",
            "a7f6dabe5c654b0285ac453721980b13"
          ]
        },
        "id": "lSHVZ0CwsAwE",
        "outputId": "d95a4345-4e10-45ea-dd04-fc7e56c17046"
      },
      "outputs": [
        {
          "output_type": "display_data",
          "data": {
            "text/plain": [
              "interactive(children=(IntSlider(value=0, description='numIter', max=20), Output()), _dom_classes=('widget-inte…"
            ],
            "application/vnd.jupyter.widget-view+json": {
              "version_major": 2,
              "version_minor": 0,
              "model_id": "d157ebf9bc22472d8b464ec0e916c13e"
            }
          },
          "metadata": {}
        }
      ],
      "source": [
        "def f(numIter=1):\n",
        "    start_time = timeit.default_timer()\n",
        "    # code you want to evaluate\n",
        "    value, policy = policyIteration(mdp, numIterations=numIter)\n",
        "    elapsed = timeit.default_timer() - start_time\n",
        "    print('time=', np.round(elapsed*1000,2))\n",
        "    pl.figure(figsize=(3,3))\n",
        "    mdp.gridPlot(ax=pl.gca(), im=value.reshape(10,10), title='Utility', cmap='jet')\n",
        "    for s in range(100):\n",
        "        x, y = mdp.s2xy(s)\n",
        "        if policy[s] == 0:\n",
        "            m='\\u02C2'\n",
        "        elif policy[s] == 1:\n",
        "            m='\\u02C3'\n",
        "        elif policy[s] == 2:\n",
        "            m='\\u02C4'\n",
        "        elif policy[s] == 3:\n",
        "            m='\\u02C5'\n",
        "        pl.text(x-0.5,y-1,m,color='k',size=20)\n",
        "    pl.show()\n",
        "\n",
        "interactive_plot = interactive(f, numIter=widgets.IntSlider(min=0, max=20, step=1, value=0))\n",
        "interactive_plot"
      ]
    }
  ],
  "metadata": {
    "@webio": {
      "lastCommId": "21E8675012EB469B8DD225E5191E1594",
      "lastKernelId": "ec90fbfa-47cf-4656-a1ce-4ca4670e6701"
    },
    "colab": {
      "provenance": [],
      "include_colab_link": true
    },
    "kernelspec": {
      "display_name": "Python 3",
      "language": "python",
      "name": "python3"
    },
    "language_info": {
      "codemirror_mode": {
        "name": "ipython",
        "version": 3
      },
      "file_extension": ".py",
      "mimetype": "text/x-python",
      "name": "python",
      "nbconvert_exporter": "python",
      "pygments_lexer": "ipython3",
      "version": "3.8.8"
    },
    "widgets": {
      "application/vnd.jupyter.widget-state+json": {
        "a0fd6aec51b14170a1bd20f85977454f": {
          "model_module": "@jupyter-widgets/controls",
          "model_name": "VBoxModel",
          "model_module_version": "1.5.0",
          "state": {
            "_dom_classes": [
              "widget-interact"
            ],
            "_model_module": "@jupyter-widgets/controls",
            "_model_module_version": "1.5.0",
            "_model_name": "VBoxModel",
            "_view_count": null,
            "_view_module": "@jupyter-widgets/controls",
            "_view_module_version": "1.5.0",
            "_view_name": "VBoxView",
            "box_style": "",
            "children": [
              "IPY_MODEL_7ebcd948238a4fb383c116d0751744ae",
              "IPY_MODEL_73e730d0a4d64c50a6fd778cb4d62018",
              "IPY_MODEL_ecb388420a1f48ca8b864eb7c77f79f5",
              "IPY_MODEL_3e895aaaccdd4f9086ac099dc7a419f1"
            ],
            "layout": "IPY_MODEL_f828900e03ae4f3681f4281b5d4a42df"
          }
        },
        "7ebcd948238a4fb383c116d0751744ae": {
          "model_module": "@jupyter-widgets/controls",
          "model_name": "TextModel",
          "model_module_version": "1.5.0",
          "state": {
            "_dom_classes": [],
            "_model_module": "@jupyter-widgets/controls",
            "_model_module_version": "1.5.0",
            "_model_name": "TextModel",
            "_view_count": null,
            "_view_module": "@jupyter-widgets/controls",
            "_view_module_version": "1.5.0",
            "_view_name": "TextView",
            "continuous_update": true,
            "description": "s0_x",
            "description_tooltip": null,
            "disabled": false,
            "layout": "IPY_MODEL_8f9d4fb6b1cf479fabac807847430600",
            "placeholder": "​",
            "style": "IPY_MODEL_7c8054414c7f423fbef139f577898a62",
            "value": "4"
          }
        },
        "73e730d0a4d64c50a6fd778cb4d62018": {
          "model_module": "@jupyter-widgets/controls",
          "model_name": "TextModel",
          "model_module_version": "1.5.0",
          "state": {
            "_dom_classes": [],
            "_model_module": "@jupyter-widgets/controls",
            "_model_module_version": "1.5.0",
            "_model_name": "TextModel",
            "_view_count": null,
            "_view_module": "@jupyter-widgets/controls",
            "_view_module_version": "1.5.0",
            "_view_name": "TextView",
            "continuous_update": true,
            "description": "s0_y",
            "description_tooltip": null,
            "disabled": false,
            "layout": "IPY_MODEL_07a961f3b2344d99af3299ddb4dda842",
            "placeholder": "​",
            "style": "IPY_MODEL_b873e52d203f4177bcda0b2d070ce0f7",
            "value": "5"
          }
        },
        "ecb388420a1f48ca8b864eb7c77f79f5": {
          "model_module": "@jupyter-widgets/controls",
          "model_name": "ToggleButtonsModel",
          "model_module_version": "1.5.0",
          "state": {
            "_dom_classes": [],
            "_model_module": "@jupyter-widgets/controls",
            "_model_module_version": "1.5.0",
            "_model_name": "ToggleButtonsModel",
            "_options_labels": [
              "left",
              "right",
              "up",
              "down"
            ],
            "_view_count": null,
            "_view_module": "@jupyter-widgets/controls",
            "_view_module_version": "1.5.0",
            "_view_name": "ToggleButtonsView",
            "button_style": "",
            "description": "action",
            "description_tooltip": null,
            "disabled": false,
            "icons": [],
            "index": 3,
            "layout": "IPY_MODEL_28af7ab79fe94d92b976eec44f171e1e",
            "style": "IPY_MODEL_66d18c0eda8d4f16a4650261548dbb44",
            "tooltips": []
          }
        },
        "3e895aaaccdd4f9086ac099dc7a419f1": {
          "model_module": "@jupyter-widgets/output",
          "model_name": "OutputModel",
          "model_module_version": "1.0.0",
          "state": {
            "_dom_classes": [],
            "_model_module": "@jupyter-widgets/output",
            "_model_module_version": "1.0.0",
            "_model_name": "OutputModel",
            "_view_count": null,
            "_view_module": "@jupyter-widgets/output",
            "_view_module_version": "1.0.0",
            "_view_name": "OutputView",
            "layout": "IPY_MODEL_88660f3cb4274b8d849b89db1e9d941b",
            "msg_id": "",
            "outputs": [
              {
                "output_type": "display_data",
                "data": {
                  "text/plain": "<Figure size 600x600 with 2 Axes>",
                  "image/png": "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\n"
                },
                "metadata": {}
              }
            ]
          }
        },
        "f828900e03ae4f3681f4281b5d4a42df": {
          "model_module": "@jupyter-widgets/base",
          "model_name": "LayoutModel",
          "model_module_version": "1.2.0",
          "state": {
            "_model_module": "@jupyter-widgets/base",
            "_model_module_version": "1.2.0",
            "_model_name": "LayoutModel",
            "_view_count": null,
            "_view_module": "@jupyter-widgets/base",
            "_view_module_version": "1.2.0",
            "_view_name": "LayoutView",
            "align_content": null,
            "align_items": null,
            "align_self": null,
            "border": null,
            "bottom": null,
            "display": null,
            "flex": null,
            "flex_flow": null,
            "grid_area": null,
            "grid_auto_columns": null,
            "grid_auto_flow": null,
            "grid_auto_rows": null,
            "grid_column": null,
            "grid_gap": null,
            "grid_row": null,
            "grid_template_areas": null,
            "grid_template_columns": null,
            "grid_template_rows": null,
            "height": null,
            "justify_content": null,
            "justify_items": null,
            "left": null,
            "margin": null,
            "max_height": null,
            "max_width": null,
            "min_height": null,
            "min_width": null,
            "object_fit": null,
            "object_position": null,
            "order": null,
            "overflow": null,
            "overflow_x": null,
            "overflow_y": null,
            "padding": null,
            "right": null,
            "top": null,
            "visibility": null,
            "width": null
          }
        },
        "8f9d4fb6b1cf479fabac807847430600": {
          "model_module": "@jupyter-widgets/base",
          "model_name": "LayoutModel",
          "model_module_version": "1.2.0",
          "state": {
            "_model_module": "@jupyter-widgets/base",
            "_model_module_version": "1.2.0",
            "_model_name": "LayoutModel",
            "_view_count": null,
            "_view_module": "@jupyter-widgets/base",
            "_view_module_version": "1.2.0",
            "_view_name": "LayoutView",
            "align_content": null,
            "align_items": null,
            "align_self": null,
            "border": null,
            "bottom": null,
            "display": null,
            "flex": null,
            "flex_flow": null,
            "grid_area": null,
            "grid_auto_columns": null,
            "grid_auto_flow": null,
            "grid_auto_rows": null,
            "grid_column": null,
            "grid_gap": null,
            "grid_row": null,
            "grid_template_areas": null,
            "grid_template_columns": null,
            "grid_template_rows": null,
            "height": null,
            "justify_content": null,
            "justify_items": null,
            "left": null,
            "margin": null,
            "max_height": null,
            "max_width": null,
            "min_height": null,
            "min_width": null,
            "object_fit": null,
            "object_position": null,
            "order": null,
            "overflow": null,
            "overflow_x": null,
            "overflow_y": null,
            "padding": null,
            "right": null,
            "top": null,
            "visibility": null,
            "width": null
          }
        },
        "7c8054414c7f423fbef139f577898a62": {
          "model_module": "@jupyter-widgets/controls",
          "model_name": "DescriptionStyleModel",
          "model_module_version": "1.5.0",
          "state": {
            "_model_module": "@jupyter-widgets/controls",
            "_model_module_version": "1.5.0",
            "_model_name": "DescriptionStyleModel",
            "_view_count": null,
            "_view_module": "@jupyter-widgets/base",
            "_view_module_version": "1.2.0",
            "_view_name": "StyleView",
            "description_width": ""
          }
        },
        "07a961f3b2344d99af3299ddb4dda842": {
          "model_module": "@jupyter-widgets/base",
          "model_name": "LayoutModel",
          "model_module_version": "1.2.0",
          "state": {
            "_model_module": "@jupyter-widgets/base",
            "_model_module_version": "1.2.0",
            "_model_name": "LayoutModel",
            "_view_count": null,
            "_view_module": "@jupyter-widgets/base",
            "_view_module_version": "1.2.0",
            "_view_name": "LayoutView",
            "align_content": null,
            "align_items": null,
            "align_self": null,
            "border": null,
            "bottom": null,
            "display": null,
            "flex": null,
            "flex_flow": null,
            "grid_area": null,
            "grid_auto_columns": null,
            "grid_auto_flow": null,
            "grid_auto_rows": null,
            "grid_column": null,
            "grid_gap": null,
            "grid_row": null,
            "grid_template_areas": null,
            "grid_template_columns": null,
            "grid_template_rows": null,
            "height": null,
            "justify_content": null,
            "justify_items": null,
            "left": null,
            "margin": null,
            "max_height": null,
            "max_width": null,
            "min_height": null,
            "min_width": null,
            "object_fit": null,
            "object_position": null,
            "order": null,
            "overflow": null,
            "overflow_x": null,
            "overflow_y": null,
            "padding": null,
            "right": null,
            "top": null,
            "visibility": null,
            "width": null
          }
        },
        "b873e52d203f4177bcda0b2d070ce0f7": {
          "model_module": "@jupyter-widgets/controls",
          "model_name": "DescriptionStyleModel",
          "model_module_version": "1.5.0",
          "state": {
            "_model_module": "@jupyter-widgets/controls",
            "_model_module_version": "1.5.0",
            "_model_name": "DescriptionStyleModel",
            "_view_count": null,
            "_view_module": "@jupyter-widgets/base",
            "_view_module_version": "1.2.0",
            "_view_name": "StyleView",
            "description_width": ""
          }
        },
        "28af7ab79fe94d92b976eec44f171e1e": {
          "model_module": "@jupyter-widgets/base",
          "model_name": "LayoutModel",
          "model_module_version": "1.2.0",
          "state": {
            "_model_module": "@jupyter-widgets/base",
            "_model_module_version": "1.2.0",
            "_model_name": "LayoutModel",
            "_view_count": null,
            "_view_module": "@jupyter-widgets/base",
            "_view_module_version": "1.2.0",
            "_view_name": "LayoutView",
            "align_content": null,
            "align_items": null,
            "align_self": null,
            "border": null,
            "bottom": null,
            "display": null,
            "flex": null,
            "flex_flow": null,
            "grid_area": null,
            "grid_auto_columns": null,
            "grid_auto_flow": null,
            "grid_auto_rows": null,
            "grid_column": null,
            "grid_gap": null,
            "grid_row": null,
            "grid_template_areas": null,
            "grid_template_columns": null,
            "grid_template_rows": null,
            "height": null,
            "justify_content": null,
            "justify_items": null,
            "left": null,
            "margin": null,
            "max_height": null,
            "max_width": null,
            "min_height": null,
            "min_width": null,
            "object_fit": null,
            "object_position": null,
            "order": null,
            "overflow": null,
            "overflow_x": null,
            "overflow_y": null,
            "padding": null,
            "right": null,
            "top": null,
            "visibility": null,
            "width": null
          }
        },
        "66d18c0eda8d4f16a4650261548dbb44": {
          "model_module": "@jupyter-widgets/controls",
          "model_name": "ToggleButtonsStyleModel",
          "model_module_version": "1.5.0",
          "state": {
            "_model_module": "@jupyter-widgets/controls",
            "_model_module_version": "1.5.0",
            "_model_name": "ToggleButtonsStyleModel",
            "_view_count": null,
            "_view_module": "@jupyter-widgets/base",
            "_view_module_version": "1.2.0",
            "_view_name": "StyleView",
            "button_width": "",
            "description_width": "",
            "font_weight": ""
          }
        },
        "88660f3cb4274b8d849b89db1e9d941b": {
          "model_module": "@jupyter-widgets/base",
          "model_name": "LayoutModel",
          "model_module_version": "1.2.0",
          "state": {
            "_model_module": "@jupyter-widgets/base",
            "_model_module_version": "1.2.0",
            "_model_name": "LayoutModel",
            "_view_count": null,
            "_view_module": "@jupyter-widgets/base",
            "_view_module_version": "1.2.0",
            "_view_name": "LayoutView",
            "align_content": null,
            "align_items": null,
            "align_self": null,
            "border": null,
            "bottom": null,
            "display": null,
            "flex": null,
            "flex_flow": null,
            "grid_area": null,
            "grid_auto_columns": null,
            "grid_auto_flow": null,
            "grid_auto_rows": null,
            "grid_column": null,
            "grid_gap": null,
            "grid_row": null,
            "grid_template_areas": null,
            "grid_template_columns": null,
            "grid_template_rows": null,
            "height": null,
            "justify_content": null,
            "justify_items": null,
            "left": null,
            "margin": null,
            "max_height": null,
            "max_width": null,
            "min_height": null,
            "min_width": null,
            "object_fit": null,
            "object_position": null,
            "order": null,
            "overflow": null,
            "overflow_x": null,
            "overflow_y": null,
            "padding": null,
            "right": null,
            "top": null,
            "visibility": null,
            "width": null
          }
        },
        "ad7c1b46b55a4aa38fb93b5cf5e58c22": {
          "model_module": "@jupyter-widgets/controls",
          "model_name": "VBoxModel",
          "model_module_version": "1.5.0",
          "state": {
            "_dom_classes": [
              "widget-interact"
            ],
            "_model_module": "@jupyter-widgets/controls",
            "_model_module_version": "1.5.0",
            "_model_name": "VBoxModel",
            "_view_count": null,
            "_view_module": "@jupyter-widgets/controls",
            "_view_module_version": "1.5.0",
            "_view_name": "VBoxView",
            "box_style": "",
            "children": [
              "IPY_MODEL_c98b353f314a4c88adcc89cf9dee39f6",
              "IPY_MODEL_45aa1c1acedf431c804fbb01cb712532",
              "IPY_MODEL_9c0484dd732d47dfa6fec7ca32573a55"
            ],
            "layout": "IPY_MODEL_ceb5cc95699a4427943d6d53aa5fb781"
          }
        },
        "c98b353f314a4c88adcc89cf9dee39f6": {
          "model_module": "@jupyter-widgets/controls",
          "model_name": "ToggleButtonsModel",
          "model_module_version": "1.5.0",
          "state": {
            "_dom_classes": [],
            "_model_module": "@jupyter-widgets/controls",
            "_model_module_version": "1.5.0",
            "_model_name": "ToggleButtonsModel",
            "_options_labels": [
              "left",
              "right",
              "up",
              "down"
            ],
            "_view_count": null,
            "_view_module": "@jupyter-widgets/controls",
            "_view_module_version": "1.5.0",
            "_view_name": "ToggleButtonsView",
            "button_style": "",
            "description": "action",
            "description_tooltip": null,
            "disabled": false,
            "icons": [],
            "index": 0,
            "layout": "IPY_MODEL_da37346023364b7087a83a7ad5dfb11b",
            "style": "IPY_MODEL_5f1af69e1a744baa91cff44726840a68",
            "tooltips": []
          }
        },
        "45aa1c1acedf431c804fbb01cb712532": {
          "model_module": "@jupyter-widgets/controls",
          "model_name": "IntSliderModel",
          "model_module_version": "1.5.0",
          "state": {
            "_dom_classes": [],
            "_model_module": "@jupyter-widgets/controls",
            "_model_module_version": "1.5.0",
            "_model_name": "IntSliderModel",
            "_view_count": null,
            "_view_module": "@jupyter-widgets/controls",
            "_view_module_version": "1.5.0",
            "_view_name": "IntSliderView",
            "continuous_update": true,
            "description": "numIter",
            "description_tooltip": null,
            "disabled": false,
            "layout": "IPY_MODEL_bdef23386a9a4942ab782348096d2b18",
            "max": 20,
            "min": 0,
            "orientation": "horizontal",
            "readout": true,
            "readout_format": "d",
            "step": 1,
            "style": "IPY_MODEL_8b5ad34c394d4fe28169e71de2b7f20b",
            "value": 0
          }
        },
        "9c0484dd732d47dfa6fec7ca32573a55": {
          "model_module": "@jupyter-widgets/output",
          "model_name": "OutputModel",
          "model_module_version": "1.0.0",
          "state": {
            "_dom_classes": [],
            "_model_module": "@jupyter-widgets/output",
            "_model_module_version": "1.0.0",
            "_model_name": "OutputModel",
            "_view_count": null,
            "_view_module": "@jupyter-widgets/output",
            "_view_module_version": "1.0.0",
            "_view_name": "OutputView",
            "layout": "IPY_MODEL_0b4408df75f64042adaab49938ec2402",
            "msg_id": "",
            "outputs": [
              {
                "output_type": "display_data",
                "data": {
                  "text/plain": "<Figure size 300x300 with 2 Axes>",
                  "image/png": "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\n"
                },
                "metadata": {}
              }
            ]
          }
        },
        "ceb5cc95699a4427943d6d53aa5fb781": {
          "model_module": "@jupyter-widgets/base",
          "model_name": "LayoutModel",
          "model_module_version": "1.2.0",
          "state": {
            "_model_module": "@jupyter-widgets/base",
            "_model_module_version": "1.2.0",
            "_model_name": "LayoutModel",
            "_view_count": null,
            "_view_module": "@jupyter-widgets/base",
            "_view_module_version": "1.2.0",
            "_view_name": "LayoutView",
            "align_content": null,
            "align_items": null,
            "align_self": null,
            "border": null,
            "bottom": null,
            "display": null,
            "flex": null,
            "flex_flow": null,
            "grid_area": null,
            "grid_auto_columns": null,
            "grid_auto_flow": null,
            "grid_auto_rows": null,
            "grid_column": null,
            "grid_gap": null,
            "grid_row": null,
            "grid_template_areas": null,
            "grid_template_columns": null,
            "grid_template_rows": null,
            "height": null,
            "justify_content": null,
            "justify_items": null,
            "left": null,
            "margin": null,
            "max_height": null,
            "max_width": null,
            "min_height": null,
            "min_width": null,
            "object_fit": null,
            "object_position": null,
            "order": null,
            "overflow": null,
            "overflow_x": null,
            "overflow_y": null,
            "padding": null,
            "right": null,
            "top": null,
            "visibility": null,
            "width": null
          }
        },
        "da37346023364b7087a83a7ad5dfb11b": {
          "model_module": "@jupyter-widgets/base",
          "model_name": "LayoutModel",
          "model_module_version": "1.2.0",
          "state": {
            "_model_module": "@jupyter-widgets/base",
            "_model_module_version": "1.2.0",
            "_model_name": "LayoutModel",
            "_view_count": null,
            "_view_module": "@jupyter-widgets/base",
            "_view_module_version": "1.2.0",
            "_view_name": "LayoutView",
            "align_content": null,
            "align_items": null,
            "align_self": null,
            "border": null,
            "bottom": null,
            "display": null,
            "flex": null,
            "flex_flow": null,
            "grid_area": null,
            "grid_auto_columns": null,
            "grid_auto_flow": null,
            "grid_auto_rows": null,
            "grid_column": null,
            "grid_gap": null,
            "grid_row": null,
            "grid_template_areas": null,
            "grid_template_columns": null,
            "grid_template_rows": null,
            "height": null,
            "justify_content": null,
            "justify_items": null,
            "left": null,
            "margin": null,
            "max_height": null,
            "max_width": null,
            "min_height": null,
            "min_width": null,
            "object_fit": null,
            "object_position": null,
            "order": null,
            "overflow": null,
            "overflow_x": null,
            "overflow_y": null,
            "padding": null,
            "right": null,
            "top": null,
            "visibility": null,
            "width": null
          }
        },
        "5f1af69e1a744baa91cff44726840a68": {
          "model_module": "@jupyter-widgets/controls",
          "model_name": "ToggleButtonsStyleModel",
          "model_module_version": "1.5.0",
          "state": {
            "_model_module": "@jupyter-widgets/controls",
            "_model_module_version": "1.5.0",
            "_model_name": "ToggleButtonsStyleModel",
            "_view_count": null,
            "_view_module": "@jupyter-widgets/base",
            "_view_module_version": "1.2.0",
            "_view_name": "StyleView",
            "button_width": "",
            "description_width": "",
            "font_weight": ""
          }
        },
        "bdef23386a9a4942ab782348096d2b18": {
          "model_module": "@jupyter-widgets/base",
          "model_name": "LayoutModel",
          "model_module_version": "1.2.0",
          "state": {
            "_model_module": "@jupyter-widgets/base",
            "_model_module_version": "1.2.0",
            "_model_name": "LayoutModel",
            "_view_count": null,
            "_view_module": "@jupyter-widgets/base",
            "_view_module_version": "1.2.0",
            "_view_name": "LayoutView",
            "align_content": null,
            "align_items": null,
            "align_self": null,
            "border": null,
            "bottom": null,
            "display": null,
            "flex": null,
            "flex_flow": null,
            "grid_area": null,
            "grid_auto_columns": null,
            "grid_auto_flow": null,
            "grid_auto_rows": null,
            "grid_column": null,
            "grid_gap": null,
            "grid_row": null,
            "grid_template_areas": null,
            "grid_template_columns": null,
            "grid_template_rows": null,
            "height": null,
            "justify_content": null,
            "justify_items": null,
            "left": null,
            "margin": null,
            "max_height": null,
            "max_width": null,
            "min_height": null,
            "min_width": null,
            "object_fit": null,
            "object_position": null,
            "order": null,
            "overflow": null,
            "overflow_x": null,
            "overflow_y": null,
            "padding": null,
            "right": null,
            "top": null,
            "visibility": null,
            "width": null
          }
        },
        "8b5ad34c394d4fe28169e71de2b7f20b": {
          "model_module": "@jupyter-widgets/controls",
          "model_name": "SliderStyleModel",
          "model_module_version": "1.5.0",
          "state": {
            "_model_module": "@jupyter-widgets/controls",
            "_model_module_version": "1.5.0",
            "_model_name": "SliderStyleModel",
            "_view_count": null,
            "_view_module": "@jupyter-widgets/base",
            "_view_module_version": "1.2.0",
            "_view_name": "StyleView",
            "description_width": "",
            "handle_color": null
          }
        },
        "0b4408df75f64042adaab49938ec2402": {
          "model_module": "@jupyter-widgets/base",
          "model_name": "LayoutModel",
          "model_module_version": "1.2.0",
          "state": {
            "_model_module": "@jupyter-widgets/base",
            "_model_module_version": "1.2.0",
            "_model_name": "LayoutModel",
            "_view_count": null,
            "_view_module": "@jupyter-widgets/base",
            "_view_module_version": "1.2.0",
            "_view_name": "LayoutView",
            "align_content": null,
            "align_items": null,
            "align_self": null,
            "border": null,
            "bottom": null,
            "display": null,
            "flex": null,
            "flex_flow": null,
            "grid_area": null,
            "grid_auto_columns": null,
            "grid_auto_flow": null,
            "grid_auto_rows": null,
            "grid_column": null,
            "grid_gap": null,
            "grid_row": null,
            "grid_template_areas": null,
            "grid_template_columns": null,
            "grid_template_rows": null,
            "height": null,
            "justify_content": null,
            "justify_items": null,
            "left": null,
            "margin": null,
            "max_height": null,
            "max_width": null,
            "min_height": null,
            "min_width": null,
            "object_fit": null,
            "object_position": null,
            "order": null,
            "overflow": null,
            "overflow_x": null,
            "overflow_y": null,
            "padding": null,
            "right": null,
            "top": null,
            "visibility": null,
            "width": null
          }
        },
        "a049dfeeb59640839351bb35b2ed0412": {
          "model_module": "@jupyter-widgets/controls",
          "model_name": "VBoxModel",
          "model_module_version": "1.5.0",
          "state": {
            "_dom_classes": [
              "widget-interact"
            ],
            "_model_module": "@jupyter-widgets/controls",
            "_model_module_version": "1.5.0",
            "_model_name": "VBoxModel",
            "_view_count": null,
            "_view_module": "@jupyter-widgets/controls",
            "_view_module_version": "1.5.0",
            "_view_name": "VBoxView",
            "box_style": "",
            "children": [
              "IPY_MODEL_1a5142e26e9548a79c0182b3f57569f2",
              "IPY_MODEL_87f1a0b692264ac09c3a3cc3bd3a005b"
            ],
            "layout": "IPY_MODEL_e90dace660f347f999066b59e55ee8cd"
          }
        },
        "1a5142e26e9548a79c0182b3f57569f2": {
          "model_module": "@jupyter-widgets/controls",
          "model_name": "IntSliderModel",
          "model_module_version": "1.5.0",
          "state": {
            "_dom_classes": [],
            "_model_module": "@jupyter-widgets/controls",
            "_model_module_version": "1.5.0",
            "_model_name": "IntSliderModel",
            "_view_count": null,
            "_view_module": "@jupyter-widgets/controls",
            "_view_module_version": "1.5.0",
            "_view_name": "IntSliderView",
            "continuous_update": true,
            "description": "numIter",
            "description_tooltip": null,
            "disabled": false,
            "layout": "IPY_MODEL_3fdd0079b5fd41e19eab42aac9f77c04",
            "max": 20,
            "min": 0,
            "orientation": "horizontal",
            "readout": true,
            "readout_format": "d",
            "step": 1,
            "style": "IPY_MODEL_a2e34285610a417ca138fab9448864bc",
            "value": 15
          }
        },
        "87f1a0b692264ac09c3a3cc3bd3a005b": {
          "model_module": "@jupyter-widgets/output",
          "model_name": "OutputModel",
          "model_module_version": "1.0.0",
          "state": {
            "_dom_classes": [],
            "_model_module": "@jupyter-widgets/output",
            "_model_module_version": "1.0.0",
            "_model_name": "OutputModel",
            "_view_count": null,
            "_view_module": "@jupyter-widgets/output",
            "_view_module_version": "1.0.0",
            "_view_name": "OutputView",
            "layout": "IPY_MODEL_7393076a78284395a40ce75834725197",
            "msg_id": "",
            "outputs": [
              {
                "output_type": "stream",
                "name": "stdout",
                "text": [
                  "time= 74.36\n"
                ]
              },
              {
                "output_type": "display_data",
                "data": {
                  "text/plain": "<Figure size 300x300 with 2 Axes>",
                  "image/png": "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\n"
                },
                "metadata": {}
              }
            ]
          }
        },
        "e90dace660f347f999066b59e55ee8cd": {
          "model_module": "@jupyter-widgets/base",
          "model_name": "LayoutModel",
          "model_module_version": "1.2.0",
          "state": {
            "_model_module": "@jupyter-widgets/base",
            "_model_module_version": "1.2.0",
            "_model_name": "LayoutModel",
            "_view_count": null,
            "_view_module": "@jupyter-widgets/base",
            "_view_module_version": "1.2.0",
            "_view_name": "LayoutView",
            "align_content": null,
            "align_items": null,
            "align_self": null,
            "border": null,
            "bottom": null,
            "display": null,
            "flex": null,
            "flex_flow": null,
            "grid_area": null,
            "grid_auto_columns": null,
            "grid_auto_flow": null,
            "grid_auto_rows": null,
            "grid_column": null,
            "grid_gap": null,
            "grid_row": null,
            "grid_template_areas": null,
            "grid_template_columns": null,
            "grid_template_rows": null,
            "height": null,
            "justify_content": null,
            "justify_items": null,
            "left": null,
            "margin": null,
            "max_height": null,
            "max_width": null,
            "min_height": null,
            "min_width": null,
            "object_fit": null,
            "object_position": null,
            "order": null,
            "overflow": null,
            "overflow_x": null,
            "overflow_y": null,
            "padding": null,
            "right": null,
            "top": null,
            "visibility": null,
            "width": null
          }
        },
        "3fdd0079b5fd41e19eab42aac9f77c04": {
          "model_module": "@jupyter-widgets/base",
          "model_name": "LayoutModel",
          "model_module_version": "1.2.0",
          "state": {
            "_model_module": "@jupyter-widgets/base",
            "_model_module_version": "1.2.0",
            "_model_name": "LayoutModel",
            "_view_count": null,
            "_view_module": "@jupyter-widgets/base",
            "_view_module_version": "1.2.0",
            "_view_name": "LayoutView",
            "align_content": null,
            "align_items": null,
            "align_self": null,
            "border": null,
            "bottom": null,
            "display": null,
            "flex": null,
            "flex_flow": null,
            "grid_area": null,
            "grid_auto_columns": null,
            "grid_auto_flow": null,
            "grid_auto_rows": null,
            "grid_column": null,
            "grid_gap": null,
            "grid_row": null,
            "grid_template_areas": null,
            "grid_template_columns": null,
            "grid_template_rows": null,
            "height": null,
            "justify_content": null,
            "justify_items": null,
            "left": null,
            "margin": null,
            "max_height": null,
            "max_width": null,
            "min_height": null,
            "min_width": null,
            "object_fit": null,
            "object_position": null,
            "order": null,
            "overflow": null,
            "overflow_x": null,
            "overflow_y": null,
            "padding": null,
            "right": null,
            "top": null,
            "visibility": null,
            "width": null
          }
        },
        "a2e34285610a417ca138fab9448864bc": {
          "model_module": "@jupyter-widgets/controls",
          "model_name": "SliderStyleModel",
          "model_module_version": "1.5.0",
          "state": {
            "_model_module": "@jupyter-widgets/controls",
            "_model_module_version": "1.5.0",
            "_model_name": "SliderStyleModel",
            "_view_count": null,
            "_view_module": "@jupyter-widgets/base",
            "_view_module_version": "1.2.0",
            "_view_name": "StyleView",
            "description_width": "",
            "handle_color": null
          }
        },
        "7393076a78284395a40ce75834725197": {
          "model_module": "@jupyter-widgets/base",
          "model_name": "LayoutModel",
          "model_module_version": "1.2.0",
          "state": {
            "_model_module": "@jupyter-widgets/base",
            "_model_module_version": "1.2.0",
            "_model_name": "LayoutModel",
            "_view_count": null,
            "_view_module": "@jupyter-widgets/base",
            "_view_module_version": "1.2.0",
            "_view_name": "LayoutView",
            "align_content": null,
            "align_items": null,
            "align_self": null,
            "border": null,
            "bottom": null,
            "display": null,
            "flex": null,
            "flex_flow": null,
            "grid_area": null,
            "grid_auto_columns": null,
            "grid_auto_flow": null,
            "grid_auto_rows": null,
            "grid_column": null,
            "grid_gap": null,
            "grid_row": null,
            "grid_template_areas": null,
            "grid_template_columns": null,
            "grid_template_rows": null,
            "height": null,
            "justify_content": null,
            "justify_items": null,
            "left": null,
            "margin": null,
            "max_height": null,
            "max_width": null,
            "min_height": null,
            "min_width": null,
            "object_fit": null,
            "object_position": null,
            "order": null,
            "overflow": null,
            "overflow_x": null,
            "overflow_y": null,
            "padding": null,
            "right": null,
            "top": null,
            "visibility": null,
            "width": null
          }
        },
        "d157ebf9bc22472d8b464ec0e916c13e": {
          "model_module": "@jupyter-widgets/controls",
          "model_name": "VBoxModel",
          "model_module_version": "1.5.0",
          "state": {
            "_dom_classes": [
              "widget-interact"
            ],
            "_model_module": "@jupyter-widgets/controls",
            "_model_module_version": "1.5.0",
            "_model_name": "VBoxModel",
            "_view_count": null,
            "_view_module": "@jupyter-widgets/controls",
            "_view_module_version": "1.5.0",
            "_view_name": "VBoxView",
            "box_style": "",
            "children": [
              "IPY_MODEL_414c5b571e084cfdae621f73a3005abb",
              "IPY_MODEL_b198ac2aadcc4008ba066b6d8d2e107d"
            ],
            "layout": "IPY_MODEL_ddca2476c9ce4a30962c845f07928ff1"
          }
        },
        "414c5b571e084cfdae621f73a3005abb": {
          "model_module": "@jupyter-widgets/controls",
          "model_name": "IntSliderModel",
          "model_module_version": "1.5.0",
          "state": {
            "_dom_classes": [],
            "_model_module": "@jupyter-widgets/controls",
            "_model_module_version": "1.5.0",
            "_model_name": "IntSliderModel",
            "_view_count": null,
            "_view_module": "@jupyter-widgets/controls",
            "_view_module_version": "1.5.0",
            "_view_name": "IntSliderView",
            "continuous_update": true,
            "description": "numIter",
            "description_tooltip": null,
            "disabled": false,
            "layout": "IPY_MODEL_4ce9ff9932814c26ba1455774408fc91",
            "max": 20,
            "min": 0,
            "orientation": "horizontal",
            "readout": true,
            "readout_format": "d",
            "step": 1,
            "style": "IPY_MODEL_5ae2a7f904d94d04aa94a5324d4c0fc9",
            "value": 0
          }
        },
        "b198ac2aadcc4008ba066b6d8d2e107d": {
          "model_module": "@jupyter-widgets/output",
          "model_name": "OutputModel",
          "model_module_version": "1.0.0",
          "state": {
            "_dom_classes": [],
            "_model_module": "@jupyter-widgets/output",
            "_model_module_version": "1.0.0",
            "_model_name": "OutputModel",
            "_view_count": null,
            "_view_module": "@jupyter-widgets/output",
            "_view_module_version": "1.0.0",
            "_view_name": "OutputView",
            "layout": "IPY_MODEL_a7f6dabe5c654b0285ac453721980b13",
            "msg_id": "",
            "outputs": [
              {
                "output_type": "stream",
                "name": "stdout",
                "text": [
                  "time= 0.18\n"
                ]
              },
              {
                "output_type": "display_data",
                "data": {
                  "text/plain": "<Figure size 300x300 with 2 Axes>",
                  "image/png": "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\n"
                },
                "metadata": {}
              }
            ]
          }
        },
        "ddca2476c9ce4a30962c845f07928ff1": {
          "model_module": "@jupyter-widgets/base",
          "model_name": "LayoutModel",
          "model_module_version": "1.2.0",
          "state": {
            "_model_module": "@jupyter-widgets/base",
            "_model_module_version": "1.2.0",
            "_model_name": "LayoutModel",
            "_view_count": null,
            "_view_module": "@jupyter-widgets/base",
            "_view_module_version": "1.2.0",
            "_view_name": "LayoutView",
            "align_content": null,
            "align_items": null,
            "align_self": null,
            "border": null,
            "bottom": null,
            "display": null,
            "flex": null,
            "flex_flow": null,
            "grid_area": null,
            "grid_auto_columns": null,
            "grid_auto_flow": null,
            "grid_auto_rows": null,
            "grid_column": null,
            "grid_gap": null,
            "grid_row": null,
            "grid_template_areas": null,
            "grid_template_columns": null,
            "grid_template_rows": null,
            "height": null,
            "justify_content": null,
            "justify_items": null,
            "left": null,
            "margin": null,
            "max_height": null,
            "max_width": null,
            "min_height": null,
            "min_width": null,
            "object_fit": null,
            "object_position": null,
            "order": null,
            "overflow": null,
            "overflow_x": null,
            "overflow_y": null,
            "padding": null,
            "right": null,
            "top": null,
            "visibility": null,
            "width": null
          }
        },
        "4ce9ff9932814c26ba1455774408fc91": {
          "model_module": "@jupyter-widgets/base",
          "model_name": "LayoutModel",
          "model_module_version": "1.2.0",
          "state": {
            "_model_module": "@jupyter-widgets/base",
            "_model_module_version": "1.2.0",
            "_model_name": "LayoutModel",
            "_view_count": null,
            "_view_module": "@jupyter-widgets/base",
            "_view_module_version": "1.2.0",
            "_view_name": "LayoutView",
            "align_content": null,
            "align_items": null,
            "align_self": null,
            "border": null,
            "bottom": null,
            "display": null,
            "flex": null,
            "flex_flow": null,
            "grid_area": null,
            "grid_auto_columns": null,
            "grid_auto_flow": null,
            "grid_auto_rows": null,
            "grid_column": null,
            "grid_gap": null,
            "grid_row": null,
            "grid_template_areas": null,
            "grid_template_columns": null,
            "grid_template_rows": null,
            "height": null,
            "justify_content": null,
            "justify_items": null,
            "left": null,
            "margin": null,
            "max_height": null,
            "max_width": null,
            "min_height": null,
            "min_width": null,
            "object_fit": null,
            "object_position": null,
            "order": null,
            "overflow": null,
            "overflow_x": null,
            "overflow_y": null,
            "padding": null,
            "right": null,
            "top": null,
            "visibility": null,
            "width": null
          }
        },
        "5ae2a7f904d94d04aa94a5324d4c0fc9": {
          "model_module": "@jupyter-widgets/controls",
          "model_name": "SliderStyleModel",
          "model_module_version": "1.5.0",
          "state": {
            "_model_module": "@jupyter-widgets/controls",
            "_model_module_version": "1.5.0",
            "_model_name": "SliderStyleModel",
            "_view_count": null,
            "_view_module": "@jupyter-widgets/base",
            "_view_module_version": "1.2.0",
            "_view_name": "StyleView",
            "description_width": "",
            "handle_color": null
          }
        },
        "a7f6dabe5c654b0285ac453721980b13": {
          "model_module": "@jupyter-widgets/base",
          "model_name": "LayoutModel",
          "model_module_version": "1.2.0",
          "state": {
            "_model_module": "@jupyter-widgets/base",
            "_model_module_version": "1.2.0",
            "_model_name": "LayoutModel",
            "_view_count": null,
            "_view_module": "@jupyter-widgets/base",
            "_view_module_version": "1.2.0",
            "_view_name": "LayoutView",
            "align_content": null,
            "align_items": null,
            "align_self": null,
            "border": null,
            "bottom": null,
            "display": null,
            "flex": null,
            "flex_flow": null,
            "grid_area": null,
            "grid_auto_columns": null,
            "grid_auto_flow": null,
            "grid_auto_rows": null,
            "grid_column": null,
            "grid_gap": null,
            "grid_row": null,
            "grid_template_areas": null,
            "grid_template_columns": null,
            "grid_template_rows": null,
            "height": null,
            "justify_content": null,
            "justify_items": null,
            "left": null,
            "margin": null,
            "max_height": null,
            "max_width": null,
            "min_height": null,
            "min_width": null,
            "object_fit": null,
            "object_position": null,
            "order": null,
            "overflow": null,
            "overflow_x": null,
            "overflow_y": null,
            "padding": null,
            "right": null,
            "top": null,
            "visibility": null,
            "width": null
          }
        }
      }
    }
  },
  "nbformat": 4,
  "nbformat_minor": 0
}